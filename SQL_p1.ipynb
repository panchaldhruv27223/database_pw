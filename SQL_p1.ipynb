{
 "cells": [
  {
   "cell_type": "code",
   "execution_count": null,
   "id": "36a4ed1f",
   "metadata": {},
   "outputs": [],
   "source": [
    "Q 1. What is a database? Differentiate between SQL and NoSQL databases."
   ]
  },
  {
   "cell_type": "code",
   "execution_count": null,
   "id": "a6b0699a",
   "metadata": {},
   "outputs": [],
   "source": [
    "database :\n",
    "    database is a thing in computer where we can store our file , data , information in a structure oe non structure way.\n",
    "    so it is easy to accessed and managed."
   ]
  },
  {
   "cell_type": "code",
   "execution_count": null,
   "id": "b5f5e17e",
   "metadata": {},
   "outputs": [],
   "source": [
    "sql database :\n",
    "    sql database use structure query language.\n",
    "    sql work with well defined structure data or like relational database.\n",
    "    in sql database we have to give pre-difined structure.\n",
    "    in this data stored in table row X columns.\n",
    "    EX:- MY SQL\n",
    "\n",
    "no sql database :\n",
    "    in this we don't have to pass structure of data base.\n",
    "    in this data stored as key - value pair.\n",
    "    it give more flexibility.\n",
    "    it is a dynamic schema. \n",
    "    EX:-MONGO DB"
   ]
  },
  {
   "cell_type": "code",
   "execution_count": null,
   "id": "ef2c9d1c",
   "metadata": {},
   "outputs": [],
   "source": [
    "Q 2. What is DDL? Explain why CREATE, DROP, ALTER, and TRUNCATE are used with an example."
   ]
  },
  {
   "cell_type": "code",
   "execution_count": null,
   "id": "6ae49294",
   "metadata": {},
   "outputs": [],
   "source": [
    "data definition language (DDL): \n",
    "    it is a subset of sql.\n",
    "    it consist commands to commands like CREATE, DROP, ALTER, TRUNCATE."
   ]
  },
  {
   "cell_type": "code",
   "execution_count": null,
   "id": "83821224",
   "metadata": {},
   "outputs": [],
   "source": [
    "CREATE: \n",
    "    create is used to create database and also used to create table.\n",
    "    \"CREATE DATABASE MYDATABASE\"\n",
    "    \"CREATE TABLE MYDATABASE.MY_TABLE\"\n",
    "    \n",
    "DROP:\n",
    "    DROP is used to drop the existing table.\n",
    "    \n",
    "ALTER:\n",
    "    alter is used to make chnage in table like add new columns .\n",
    "    \n",
    "TRUNCATE:\n",
    "    it delete all the data from the table but table schema is as it is,means table is not deleted. we can insert new data in it."
   ]
  },
  {
   "cell_type": "code",
   "execution_count": null,
   "id": "d46b8c00",
   "metadata": {},
   "outputs": [],
   "source": [
    "import mysql.connector\n",
    "\n",
    "db = mysql.connector.connect(\n",
    "    host = \"localhost\",\n",
    "    user = \"abc\",\n",
    "    password = \"password\"\n",
    ")\n",
    "\n",
    "cr = db.cursor()\n",
    "\n",
    "\n",
    "# cr.execute(\"CREATE DATABASE if not exists DDL\")\n",
    "# cr.execute(\"CREATE TABLE if not exists DDL.my_ddl_table(College_Id INT(2), College_name VARCHAR(30), Branch VARCHAR(10))\")\n",
    "# cr.execute(\"insert into DDL.my_ddl_table values(12,'GIT','IT')\")\n",
    "# cr.execute(\"insert into DDL.my_ddl_table values(1,'GIT','IT')\")\n",
    "# cr.execute(\"insert into DDL.my_ddl_table values(2,'GIT','IT')\")\n",
    "# cr.execute(\"select * from DDL.my_ddl_table\")\n",
    "\n",
    "# for i in cr.fetchall():\n",
    "#     print(i)\n",
    "\n",
    "#  alter is used to make chnage in table like add new columns \n",
    "# cr.execute(\"ALTER TABLE DDL.my_ddl_table ADD sem INT(1)\")\n",
    "\n",
    "# cr.execute(\"insert into DDL.my_ddl_table values(1,'GIT','IT',2)\")\n",
    "# cr.execute(\"insert into DDL.my_ddl_table values(2,'GIT','IT',3)\")\n",
    "\n",
    "\n",
    "#  it delete all the data from the table \n",
    "# cr.execute(\"TRUNCATE TABLE DDL.my_ddl_table\")\n",
    "\n",
    "cr.execute(\"DROP TABLE DDL.my_ddl_table\")\n",
    "\n",
    "# cr.execute(\"select * from DDL.my_ddl_table\")\n",
    "\n",
    "# for i in cr.fetchall():\n",
    "#     print(i)\n",
    "\n",
    "db.commit()\n",
    "db.close()"
   ]
  },
  {
   "cell_type": "code",
   "execution_count": null,
   "id": "b1bb3f73",
   "metadata": {},
   "outputs": [],
   "source": [
    "Q3. What is DML? Explain INSERT, UPDATE, and DELETE with an example."
   ]
  },
  {
   "cell_type": "code",
   "execution_count": null,
   "id": "88d4f05e",
   "metadata": {},
   "outputs": [],
   "source": [
    "DML :\n",
    "    in sql dml(data manipulation language) is used  for manipulation opration like :\n",
    "        INSERT , UPDATE , DELETE.\n",
    "        \n",
    "INSERT :\n",
    "    insert is used to insert the data in the data table.\n",
    "    \n",
    "UPDATE :\n",
    "    update is used to update the data in the data table.\n",
    "    \n",
    "DELETE:\n",
    "    delete is used to delete the data from the data table."
   ]
  },
  {
   "cell_type": "code",
   "execution_count": null,
   "id": "51d899d5",
   "metadata": {},
   "outputs": [],
   "source": [
    "import mysql.connector\n",
    "\n",
    "db = mysql.connector.connect(\n",
    "    host =\"localhost\",\n",
    "    user = \"abc\",\n",
    "    password = \"password\"\n",
    ")\n",
    "\n",
    "cr = db.cursor()\n",
    "\n",
    "# cr.execute(\"create database if not exists my_dml\")\n",
    "# cr.execute(\"create table if not exists my_dml.dml(c1 int, c2 varchar(10))\")\n",
    "\n",
    "#  it insert the data into the table\n",
    "# cr.execute(\"insert into my_dml.dml values(1,'dhruv')\")\n",
    "# cr.execute(\"insert into my_dml.dml values(2,'panchal')\")\n",
    "# cr.execute(\"insert into my_dml.dml values(3,'pravin')\")\n",
    "# cr.execute(\"insert into my_dml.dml values(4,'chintan')\")\n",
    "\n",
    "\n",
    "#  it update the table \n",
    "# cr.execute(\"update my_dml.dml set c2='ved' where c1=2\")\n",
    "\n",
    "\n",
    "#  it delete row from the table \n",
    "#  where is used to show condition\n",
    "cr.execute(\"delete from my_dml.dml  where c1=2\")\n",
    "\n",
    "\n",
    "\n",
    "cr.execute(\"select * from my_dml.dml\")\n",
    "\n",
    "for i in cr.fetchall():\n",
    "    print(i)\n",
    "\n",
    "db.commit()\n",
    "db.close()"
   ]
  },
  {
   "cell_type": "code",
   "execution_count": null,
   "id": "18789676",
   "metadata": {},
   "outputs": [],
   "source": [
    "Q 4. What is DQL? Explain SELECT with an example."
   ]
  },
  {
   "cell_type": "code",
   "execution_count": null,
   "id": "2010d2f1",
   "metadata": {},
   "outputs": [],
   "source": [
    "DQl :\n",
    "    it is a data quere language it is a statement used as quere for retrieving the data from the table.\n",
    "    we have a select useing which we can retrieve data from the data-table.\n",
    "    \n",
    "SELECT :\n",
    "    select is used to retrieve the data from table.\n",
    "    "
   ]
  },
  {
   "cell_type": "code",
   "execution_count": null,
   "id": "37267228",
   "metadata": {},
   "outputs": [],
   "source": [
    "import mysql.connector\n",
    "\n",
    "db = mysql.connector.connect(\n",
    "    host =\"localhost\",\n",
    "    user = \"abc\",\n",
    "    password = \"password\"\n",
    ")\n",
    "\n",
    "cr = db.cursor()\n",
    "\n",
    "# cr.execute(\"create database if not exists my_dml\")\n",
    "# cr.execute(\"create table if not exists my_dml.dml(c1 int, c2 varchar(10))\")\n",
    "\n",
    "#  it insert the data into the table\n",
    "# cr.execute(\"insert into my_dml.dml values(1,'dhruv')\")\n",
    "# cr.execute(\"insert into my_dml.dml values(2,'panchal')\")\n",
    "# cr.execute(\"insert into my_dml.dml values(3,'pravin')\")\n",
    "# cr.execute(\"insert into my_dml.dml values(4,'chintan')\")\n",
    "\n",
    "\n",
    "#  it update the table \n",
    "# cr.execute(\"update my_dml.dml set c2='ved' where c1=2\")\n",
    "\n",
    "\n",
    "#  it delete row from the table \n",
    "#  where is used to show condition\n",
    "cr.execute(\"delete from my_dml.dml  where c1=2\")\n",
    "\n",
    "\n",
    "#  select is used to fetchall the data. we can also use select with condition using where.\n",
    "cr.execute(\"select * from my_dml.dml\")\n",
    "\n",
    "for i in cr.fetchall():\n",
    "    print(i)\n",
    "\n",
    "db.commit()\n",
    "db.close()"
   ]
  },
  {
   "cell_type": "code",
   "execution_count": null,
   "id": "3136c63a",
   "metadata": {},
   "outputs": [],
   "source": [
    "Q5. Explain Primary Key and Foreign Key."
   ]
  },
  {
   "cell_type": "code",
   "execution_count": null,
   "id": "d3e36bc4",
   "metadata": {},
   "outputs": [],
   "source": [
    "primary key:\n",
    "    primary key is used in table, by using it we can uniquely identify each record(row) in the table.\n",
    "#     \n",
    "    the column which we use as primary key then that the column must contain unique value,\n",
    "    that column must be not null.\n",
    "    \n",
    "foreign key :\n",
    "    foreign key is used to link tables together.\n",
    "    foreign key in table is primary key of other table."
   ]
  },
  {
   "cell_type": "code",
   "execution_count": null,
   "id": "a658e75f",
   "metadata": {},
   "outputs": [],
   "source": [
    "Q6. Write a python code to connect MySQL to python. Explain the cursor() and execute() method."
   ]
  },
  {
   "cell_type": "code",
   "execution_count": null,
   "id": "e07da6a5",
   "metadata": {},
   "outputs": [],
   "source": [
    "import mysql.connector\n",
    "\n",
    "db = mysql.connector.connect(\n",
    "    host =\"localhost\",\n",
    "    user = \"abc\",\n",
    "    password = \"password\"\n",
    ")\n",
    "\n",
    "cr = db.cursor()\n",
    "cr.execute(\"OPRATION\")\n",
    "\n",
    "db.close()"
   ]
  },
  {
   "cell_type": "code",
   "execution_count": null,
   "id": "edd662c9",
   "metadata": {},
   "outputs": [],
   "source": [
    "Cursor is a Temporary Memory or Temporary Work Station.\n",
    "It is Allocated by Database Server at the Time of Performing Data Manipulation Language operations on the Table by the User.\n",
    "Cursors are used to store Database Tables.\n",
    "\n",
    "there are two types of cursor:\n",
    "    Implicit Cursors:\n",
    "        Implicit Cursors are also known as Default Cursors of SQL SERVER.\n",
    "        These Cursors are allocated by SQL SERVER when the user performs DML operations.\n",
    "    Explicit Cursors: \n",
    "        Explicit Cursors are Created by Users whenever the user requires them. \n",
    "        Explicit Cursors are used for Fetching data from Table in Row-By-Row Manner."
   ]
  },
  {
   "cell_type": "code",
   "execution_count": null,
   "id": "a1bab36f",
   "metadata": {},
   "outputs": [],
   "source": [
    "execute :\n",
    "    execute method is used to execute all type of sql statement.\n",
    "    execute method return in boolean(True or False)\n"
   ]
  },
  {
   "cell_type": "code",
   "execution_count": null,
   "id": "43172dab",
   "metadata": {},
   "outputs": [],
   "source": [
    "Q7. Give the order of execution of SQL clauses in an SQL query"
   ]
  },
  {
   "cell_type": "code",
   "execution_count": null,
   "id": "33c35157",
   "metadata": {},
   "outputs": [],
   "source": [
    "1. FROM/JOIN: The FROM and/or JOIN clauses are executed first to determine the data of interest.\n",
    "\n",
    "2. WHERE: The WHERE clause is executed to filter out records that do not meet the constraints.\n",
    "\n",
    "3. GROUP BY: The GROUP BY clause is executed to group the data based on the values in one or more columns.\n",
    "\n",
    "4. HAVING: The HAVING clause is executed to remove the created grouped records that don’t meet the constraints.\n",
    "\n",
    "5. SELECT: The SELECT clause is executed to derive all desired columns and expressions.\n",
    "\n",
    "6. ORDER BY: The ORDER BY clause is executed to sort the derived values in ascending or descending order.\n",
    "\n",
    "7. LIMIT/OFFSET: Finally, the LIMIT and/or OFFSET clauses are executed to keep or skip a specified number of rows."
   ]
  }
 ],
 "metadata": {
  "kernelspec": {
   "display_name": "Python 3 (ipykernel)",
   "language": "python",
   "name": "python3"
  },
  "language_info": {
   "codemirror_mode": {
    "name": "ipython",
    "version": 3
   },
   "file_extension": ".py",
   "mimetype": "text/x-python",
   "name": "python",
   "nbconvert_exporter": "python",
   "pygments_lexer": "ipython3",
   "version": "3.9.7"
  }
 },
 "nbformat": 4,
 "nbformat_minor": 5
}
